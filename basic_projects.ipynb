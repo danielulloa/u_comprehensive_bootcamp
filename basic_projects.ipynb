{
 "metadata": {
  "language_info": {
   "codemirror_mode": {
    "name": "ipython",
    "version": 3
   },
   "file_extension": ".py",
   "mimetype": "text/x-python",
   "name": "python",
   "nbconvert_exporter": "python",
   "pygments_lexer": "ipython3",
   "version": "3.8.6-final"
  },
  "orig_nbformat": 2,
  "kernelspec": {
   "name": "python3",
   "display_name": "Python 3.8.6 64-bit",
   "metadata": {
    "interpreter": {
     "hash": "2db524e06e9f5f4ffedc911c917cb75e12dbc923643829bf417064a77eb14d37"
    }
   }
  }
 },
 "nbformat": 4,
 "nbformat_minor": 2,
 "cells": [
  {
   "source": [
    "# Más, Menos!"
   ],
   "cell_type": "markdown",
   "metadata": {}
  },
  {
   "cell_type": "code",
   "execution_count": 2,
   "metadata": {},
   "outputs": [
    {
     "output_type": "stream",
     "name": "stdout",
     "text": [
      "Number is too high!\n",
      "Number is too high!\n",
      "Number is too high!\n",
      "Number is too high!\n",
      "Number is too high!\n",
      "Number is too high!\n",
      "Number is too low!\n",
      "You have guessed right! Good job!\n",
      "It took you 8 gueses.\n",
      "[35, 25, 10, 5, 7, 3, 1, 2]\n"
     ]
    }
   ],
   "source": [
    "import random\n",
    "guesses = []\n",
    "\n",
    "myComputer = random.randint(1,70)\n",
    "\n",
    "player = int(input(\"Enter a number between 1-70: \"))\n",
    "guesses.append(player)\n",
    "\n",
    "while player != myComputer:\n",
    "    if player > myComputer:\n",
    "        print(\"Number is too high!\")\n",
    "    else:\n",
    "        print(\"Number is too low!\")\n",
    "    player = int(input(\"Enter a number between 1-70: \"))\n",
    "    guesses.append(player)\n",
    "\n",
    "else:\n",
    "    print(\"You have guessed right! Good job!\")\n",
    "    print(\"It took you %i gueses.\" % len(guesses))\n",
    "    print(guesses)"
   ]
  },
  {
   "source": [
    "# Quiniela"
   ],
   "cell_type": "markdown",
   "metadata": {}
  },
  {
   "cell_type": "code",
   "execution_count": 3,
   "metadata": {},
   "outputs": [
    {
     "output_type": "stream",
     "name": "stdout",
     "text": [
      "[7185, 5078, 802, 1596, 8601, 4496, 2555, 9821, 4715, 2865, 4776, 3727, 2752, 3652, 11, 2684, 4235, 404, 9343, 3632]\n"
     ]
    }
   ],
   "source": [
    "import random\n",
    "\n",
    "lottery_numbers = []\n",
    "\n",
    "for i in range(0,20):\n",
    "    number = random.randint(0,9999)\n",
    "    while number in lottery_numbers:\n",
    "        number = random.randint(0,9999)\n",
    "    lottery_numbers.append(number)\n",
    "\n",
    "print(lottery_numbers)"
   ]
  },
  {
   "cell_type": "code",
   "execution_count": null,
   "metadata": {},
   "outputs": [],
   "source": []
  },
  {
   "cell_type": "code",
   "execution_count": null,
   "metadata": {},
   "outputs": [],
   "source": []
  }
 ]
}