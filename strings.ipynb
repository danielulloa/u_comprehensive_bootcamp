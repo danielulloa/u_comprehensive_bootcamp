{
 "metadata": {
  "language_info": {
   "codemirror_mode": {
    "name": "ipython",
    "version": 3
   },
   "file_extension": ".py",
   "mimetype": "text/x-python",
   "name": "python",
   "nbconvert_exporter": "python",
   "pygments_lexer": "ipython3",
   "version": "3.8.6-final"
  },
  "orig_nbformat": 2,
  "kernelspec": {
   "name": "python3",
   "display_name": "Python 3.8.6 64-bit",
   "metadata": {
    "interpreter": {
     "hash": "2db524e06e9f5f4ffedc911c917cb75e12dbc923643829bf417064a77eb14d37"
    }
   }
  }
 },
 "nbformat": 4,
 "nbformat_minor": 2,
 "cells": [
  {
   "cell_type": "code",
   "execution_count": 11,
   "metadata": {},
   "outputs": [],
   "source": [
    "texto = 'tres tristes tigres tragaban trigo en un trigal'"
   ]
  },
  {
   "source": [
    "Para determinar la longitud de un string podemos usar la función len()"
   ],
   "cell_type": "markdown",
   "metadata": {}
  },
  {
   "cell_type": "code",
   "execution_count": 12,
   "metadata": {},
   "outputs": [
    {
     "output_type": "execute_result",
     "data": {
      "text/plain": [
       "47"
      ]
     },
     "metadata": {},
     "execution_count": 12
    }
   ],
   "source": [
    "len(texto)"
   ]
  },
  {
   "source": [
    "Para conocer la posición de un caracter usamos el método index()"
   ],
   "cell_type": "markdown",
   "metadata": {}
  },
  {
   "cell_type": "code",
   "execution_count": 25,
   "metadata": {},
   "outputs": [
    {
     "output_type": "execute_result",
     "data": {
      "text/plain": [
       "13"
      ]
     },
     "metadata": {},
     "execution_count": 25
    }
   ],
   "source": [
    "texto.index(\"tigres\")"
   ]
  },
  {
   "cell_type": "code",
   "execution_count": 14,
   "metadata": {},
   "outputs": [
    {
     "output_type": "execute_result",
     "data": {
      "text/plain": [
       "'Tres tristes tigres tragaban trigo en un trigal'"
      ]
     },
     "metadata": {},
     "execution_count": 14
    }
   ],
   "source": [
    "texto.capitalize()"
   ]
  },
  {
   "cell_type": "code",
   "execution_count": 15,
   "metadata": {},
   "outputs": [
    {
     "output_type": "execute_result",
     "data": {
      "text/plain": [
       "'TRES TRISTES TIGRES TRAGABAN TRIGO EN UN TRIGAL'"
      ]
     },
     "metadata": {},
     "execution_count": 15
    }
   ],
   "source": [
    "texto.upper()"
   ]
  },
  {
   "cell_type": "code",
   "execution_count": 16,
   "metadata": {},
   "outputs": [
    {
     "output_type": "execute_result",
     "data": {
      "text/plain": [
       "'tres tristes tigres tragaban trigo en un trigal'"
      ]
     },
     "metadata": {},
     "execution_count": 16
    }
   ],
   "source": [
    "texto.lower()"
   ]
  },
  {
   "source": [
    "Una prueba que se puede realizar para strings es con el método islower() o isupper(), verificará si todos los caracteres son minúsculas o mayúsculas."
   ],
   "cell_type": "markdown",
   "metadata": {}
  },
  {
   "cell_type": "code",
   "execution_count": 17,
   "metadata": {},
   "outputs": [
    {
     "output_type": "execute_result",
     "data": {
      "text/plain": [
       "True"
      ]
     },
     "metadata": {},
     "execution_count": 17
    }
   ],
   "source": [
    "texto.islower()"
   ]
  },
  {
   "cell_type": "code",
   "execution_count": 24,
   "metadata": {},
   "outputs": [
    {
     "output_type": "execute_result",
     "data": {
      "text/plain": [
       "False"
      ]
     },
     "metadata": {},
     "execution_count": 24
    }
   ],
   "source": [
    "texto.capitalize().isupper()"
   ]
  },
  {
   "source": [
    "Cuantas veces ocurre un caracter en un string?"
   ],
   "cell_type": "markdown",
   "metadata": {}
  },
  {
   "cell_type": "code",
   "execution_count": 26,
   "metadata": {},
   "outputs": [
    {
     "output_type": "execute_result",
     "data": {
      "text/plain": [
       "7"
      ]
     },
     "metadata": {},
     "execution_count": 26
    }
   ],
   "source": [
    "texto.count(\"t\")"
   ]
  },
  {
   "cell_type": "code",
   "execution_count": 29,
   "metadata": {},
   "outputs": [],
   "source": [
    "palabras=texto.split()"
   ]
  },
  {
   "cell_type": "code",
   "execution_count": 30,
   "metadata": {},
   "outputs": [
    {
     "output_type": "execute_result",
     "data": {
      "text/plain": [
       "8"
      ]
     },
     "metadata": {},
     "execution_count": 30
    }
   ],
   "source": [
    "len(palabras)"
   ]
  },
  {
   "source": [
    "Cambiando una palabra de un string. Podemos usar el método replace() para reemplazar una palabra dentro de un texto, tal como hacemos con un editor de texto cuando buscamos y reemplazamos las ocurrencias."
   ],
   "cell_type": "markdown",
   "metadata": {}
  },
  {
   "cell_type": "code",
   "execution_count": 31,
   "metadata": {},
   "outputs": [
    {
     "output_type": "execute_result",
     "data": {
      "text/plain": [
       "'tres tristes leones tragaban trigo en un trigal'"
      ]
     },
     "metadata": {},
     "execution_count": 31
    }
   ],
   "source": [
    "texto.replace(\"tigres\",\"leones\")"
   ]
  },
  {
   "source": [
    "## Diccionarios\n",
    "supongamos que tenemos un diccionario larouse, cuando buscamos una palabra encontramos su significado, género y si se trata de un adjetivo, sustantivo, etc."
   ],
   "cell_type": "markdown",
   "metadata": {}
  },
  {
   "cell_type": "code",
   "execution_count": 49,
   "metadata": {},
   "outputs": [],
   "source": [
    "larousse = {'automovil':'Vehículo movido por un motor de explosión, de combustión interna, eléctrico o por turbina de gas, diseñado para el transporte individual o familiar.', 'tipo':'sustantivo', 'genero':'masculino'}"
   ]
  },
  {
   "cell_type": "code",
   "execution_count": 119,
   "metadata": {},
   "outputs": [
    {
     "output_type": "execute_result",
     "data": {
      "text/plain": [
       "dict_keys(['automovil', 'tipo', 'genero'])"
      ]
     },
     "metadata": {},
     "execution_count": 119
    }
   ],
   "source": [
    "larousse.keys()"
   ]
  },
  {
   "cell_type": "code",
   "execution_count": 120,
   "metadata": {},
   "outputs": [
    {
     "output_type": "execute_result",
     "data": {
      "text/plain": [
       "dict_values(['Vehículo movido por un motor de explosión, de combustión interna, eléctrico o por turbina de gas, diseñado para el transporte individual o familiar.', 'sustantivo', 'masculino'])"
      ]
     },
     "metadata": {},
     "execution_count": 120
    }
   ],
   "source": [
    "larousse.values()"
   ]
  },
  {
   "cell_type": "code",
   "execution_count": 50,
   "metadata": {},
   "outputs": [
    {
     "output_type": "execute_result",
     "data": {
      "text/plain": [
       "'Busqué en el diccionario la palabra automovil y su significado es: Vehículo movido por un motor de explosión, de combustión interna, eléctrico o por turbina de gas, diseñado para el transporte individual o familiar. Es un sustantivo de genero masculino por lo tanto se debe anteponer el artículo el.'"
      ]
     },
     "metadata": {},
     "execution_count": 50
    }
   ],
   "source": [
    "f\"Busqué en el diccionario la palabra {list(larousse.keys())[0]} y su significado es: {larousse['automovil']} Es un {larousse['tipo']} de genero {larousse['genero']} por lo tanto se debe anteponer el artículo el.\""
   ]
  },
  {
   "source": [
    "Podemos crear otro diccionario que contenga datos sobre un vehículo, marca, modelo, valor de mercado por año"
   ],
   "cell_type": "markdown",
   "metadata": {}
  },
  {
   "cell_type": "code",
   "execution_count": 46,
   "metadata": {},
   "outputs": [],
   "source": [
    "auto = {'marca': 'Ford', 'modelo': 'Focus L/08 4P', 'precio08':'135000','precio09':'143000','precio10':'153000'}"
   ]
  },
  {
   "cell_type": "code",
   "execution_count": 121,
   "metadata": {},
   "outputs": [
    {
     "output_type": "execute_result",
     "data": {
      "text/plain": [
       "{'fruta': 'manzana roja', 'vendedor': 'red', 'cantidad': '3'}"
      ]
     },
     "metadata": {},
     "execution_count": 121
    }
   ],
   "source": [
    "cajon = dict(fruta=\"manzana roja\",vendedor=\"red\", cantidad=\"3\")\n",
    "cajon"
   ]
  },
  {
   "cell_type": "code",
   "execution_count": 123,
   "metadata": {},
   "outputs": [
    {
     "output_type": "execute_result",
     "data": {
      "text/plain": [
       "{'fruta': 'manzana roja', 'vendedor': 'red', 'cantidad': 5}"
      ]
     },
     "metadata": {},
     "execution_count": 123
    }
   ],
   "source": [
    "cajon['cantidad']=5\n",
    "cajon"
   ]
  },
  {
   "source": [
    "## Listas"
   ],
   "cell_type": "markdown",
   "metadata": {}
  },
  {
   "cell_type": "code",
   "execution_count": 89,
   "metadata": {},
   "outputs": [],
   "source": [
    "frutas = ['uva','manzana','pera', 'sandia']\n",
    "verduras = ['lechuga','tomate','cebolla','zanahoria']"
   ]
  },
  {
   "cell_type": "code",
   "execution_count": 90,
   "metadata": {},
   "outputs": [
    {
     "output_type": "execute_result",
     "data": {
      "text/plain": [
       "['uva',\n",
       " 'manzana',\n",
       " 'pera',\n",
       " 'sandia',\n",
       " 'lechuga',\n",
       " 'tomate',\n",
       " 'cebolla',\n",
       " 'zanahoria']"
      ]
     },
     "metadata": {},
     "execution_count": 90
    }
   ],
   "source": [
    "frutas.extend(verduras)\n",
    "frutas"
   ]
  },
  {
   "cell_type": "code",
   "execution_count": 80,
   "metadata": {},
   "outputs": [
    {
     "output_type": "execute_result",
     "data": {
      "text/plain": [
       "['lechuga', 'tomate', 'cebolla', 'zanahoria', 'brocoli']"
      ]
     },
     "metadata": {},
     "execution_count": 80
    }
   ],
   "source": [
    "verduras.append(\"brocoli\")\n",
    "verduras"
   ]
  },
  {
   "cell_type": "code",
   "execution_count": 81,
   "metadata": {},
   "outputs": [
    {
     "output_type": "execute_result",
     "data": {
      "text/plain": [
       "['brocoli', 'cebolla', 'lechuga', 'tomate', 'zanahoria']"
      ]
     },
     "metadata": {},
     "execution_count": 81
    }
   ],
   "source": [
    "verduras.sort()\n",
    "verduras"
   ]
  },
  {
   "cell_type": "code",
   "execution_count": 82,
   "metadata": {},
   "outputs": [
    {
     "output_type": "execute_result",
     "data": {
      "text/plain": [
       "['zanahoria', 'tomate', 'lechuga', 'cebolla', 'brocoli']"
      ]
     },
     "metadata": {},
     "execution_count": 82
    }
   ],
   "source": [
    "verduras.sort(reverse=True)\n",
    "verduras"
   ]
  },
  {
   "cell_type": "code",
   "execution_count": 83,
   "metadata": {},
   "outputs": [
    {
     "output_type": "execute_result",
     "data": {
      "text/plain": [
       "1"
      ]
     },
     "metadata": {},
     "execution_count": 83
    }
   ],
   "source": [
    "verduras.count(\"zanahoria\")"
   ]
  },
  {
   "cell_type": "code",
   "execution_count": 84,
   "metadata": {},
   "outputs": [
    {
     "output_type": "execute_result",
     "data": {
      "text/plain": [
       "5"
      ]
     },
     "metadata": {},
     "execution_count": 84
    }
   ],
   "source": [
    "len(verduras)"
   ]
  },
  {
   "cell_type": "code",
   "execution_count": 96,
   "metadata": {},
   "outputs": [
    {
     "output_type": "execute_result",
     "data": {
      "text/plain": [
       "['lechuga', 'tomate', 'cebolla', 'ajo', 'zanahoria']"
      ]
     },
     "metadata": {},
     "execution_count": 96
    }
   ],
   "source": [
    "verduras.insert(3,'ajo')\n",
    "verduras"
   ]
  },
  {
   "cell_type": "code",
   "execution_count": 91,
   "metadata": {},
   "outputs": [
    {
     "output_type": "execute_result",
     "data": {
      "text/plain": [
       "['uva', 'manzana', 'pera', 'sandia']"
      ]
     },
     "metadata": {},
     "execution_count": 91
    }
   ],
   "source": [
    "for i in range(4):\n",
    "    frutas.pop(-1)\n",
    "frutas"
   ]
  },
  {
   "cell_type": "code",
   "execution_count": 97,
   "metadata": {},
   "outputs": [
    {
     "output_type": "execute_result",
     "data": {
      "text/plain": [
       "['lechuga', 'tomate', 'cebolla', 'zanahoria']"
      ]
     },
     "metadata": {},
     "execution_count": 97
    }
   ],
   "source": [
    "verduras.remove('ajo')\n",
    "verduras"
   ]
  },
  {
   "source": [
    "## Sets\n",
    "no tienen indices, se ordenan automaticamente"
   ],
   "cell_type": "markdown",
   "metadata": {}
  },
  {
   "cell_type": "code",
   "execution_count": 114,
   "metadata": {},
   "outputs": [],
   "source": [
    "frutas = {'uva','manzana','pera','sandia'}"
   ]
  },
  {
   "cell_type": "code",
   "execution_count": 100,
   "metadata": {},
   "outputs": [],
   "source": [
    "# creando un set con un constructor\n",
    "mascotas = set(('perro','gato','canario'))"
   ]
  },
  {
   "cell_type": "code",
   "execution_count": 115,
   "metadata": {},
   "outputs": [],
   "source": [
    "frutas.update([\"melon\",\"naranja\"])"
   ]
  },
  {
   "cell_type": "code",
   "execution_count": 116,
   "metadata": {},
   "outputs": [
    {
     "output_type": "execute_result",
     "data": {
      "text/plain": [
       "{'manzana', 'melon', 'naranja', 'pera', 'sandia', 'uva'}"
      ]
     },
     "metadata": {},
     "execution_count": 116
    }
   ],
   "source": [
    "frutas"
   ]
  }
 ]
}